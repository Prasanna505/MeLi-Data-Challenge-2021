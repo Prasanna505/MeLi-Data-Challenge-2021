{
  "nbformat": 4,
  "nbformat_minor": 0,
  "metadata": {
    "colab": {
      "name": "Code.ipynb",
      "provenance": []
    },
    "kernelspec": {
      "name": "python3",
      "display_name": "Python 3"
    },
    "language_info": {
      "name": "python"
    }
  },
  "cells": [
    {
      "cell_type": "code",
      "execution_count": null,
      "metadata": {
        "id": "4U7aPMzq-Fq-"
      },
      "outputs": [],
      "source": [
        "#MeLi-Data-Challenge -2021\n",
        "\n",
        "import pandas as pd\n",
        "import numpy as np\n",
        "import utils\n",
        "\n",
        "from sklearn.model_selection import GroupKFold, KFold\n",
        "from sklearn.linear_model import LinearRegression\n",
        "from sklearn.ensemble import RandomForestRegressor\n",
        "from sklearn.metrics import mean_squared_error\n",
        "from xgboost import XGBRegressor\n",
        "import tweedie\n",
        "\n",
        "\n",
        "from importlib import reload\n",
        "reload(utils)\n",
        "from skopt import gp_minimize"
      ]
    },
    {
      "cell_type": "code",
      "source": [
        "tr = pd.read_parquet(\"./train/0.parquet\")  #Reading the train dataset given in paraquet format\n",
        "tr['date'] = pd.to_datetime(tr['date'])\n",
        "tr['fold'] = tr['date'].dt.month #Extracting the month from the date "
      ],
      "metadata": {
        "id": "31uROhFW-ShS"
      },
      "execution_count": null,
      "outputs": []
    },
    {
      "cell_type": "code",
      "source": [
        "tr.head() #Display the top 5 rows"
      ],
      "metadata": {
        "id": "01oGNj_G-Z59"
      },
      "execution_count": null,
      "outputs": []
    },
    {
      "cell_type": "code",
      "source": [
        "test = pd.read_csv(\"test_data.csv\", index_col=0).squeeze()  #Reading the test dataset\n",
        "tr.dtypes"
      ],
      "metadata": {
        "id": "2bHwYEhF-geV"
      },
      "execution_count": null,
      "outputs": []
    },
    {
      "cell_type": "code",
      "source": [
        "category = ['item_domain_id', 'currency', 'listing_type', 'shipping_logistic_type', 'shipping_payment', 'site_id'] \n",
        "from category_encoders import OrdinalEncoder\n",
        "enc = OrdinalEncoder(category)\n",
        "tr = enc.fit_transform(tr)"
      ],
      "metadata": {
        "id": "auLIqCWF-loV"
      },
      "execution_count": null,
      "outputs": []
    },
    {
      "cell_type": "code",
      "source": [
        "def generate_train_test():\n",
        "    for fold in [2,3]:  #[2,3] here represents the month of feb and march to be taken for training\n",
        "        ts = tr[tr['fold'] != fold]['date'].max()\n",
        "        ts = tr[(tr['fold'] != fold) & (tr['date'] == ts)].index\n",
        "        yield tr.index[tr['fold'] == fold], ts, fold"
      ],
      "metadata": {
        "id": "H4z8gho1_OqF"
      },
      "execution_count": null,
      "outputs": []
    },
    {
      "cell_type": "code",
      "source": [
        "def tuning(params):\n",
        "    print(params)\n",
        "    features = [\"current_price\", \"minutes_active\"] + cats\n",
        "\n",
        "    mean_rps = 0.\n",
        "    for trt,tst, fold in generate_train_test():\n",
        "        X = tr[features]\n",
        "        y = tr['sold_quantity']\n",
        "\n",
        "        Xtr = X.iloc[trt]\n",
        "        ytr = y.iloc[trt]\n",
        "        Xval = X.iloc[tst]\n",
        "        yval = y.iloc[tst]\n",
        "\n",
        "        # Here we are using XGBRegressor for prediction of sales\n",
        "        mdl = XGBRegressor(n_estimators=1000, learning_rate=params[0],  \n",
        "                           max_depth=params[1],\n",
        "                           subsample=params[2],\n",
        "                           colsample_bytree=params[3],\n",
        "                           tweedie_variance_power=params[4],\n",
        "                           min_child_weight=params[5],\n",
        "                           random_state=0, objective=\"reg:tweedie\", \n",
        "                           base_score=1e-3,\n",
        "                           tree_method='gpu_hist')\n",
        "        mdl.fit(Xtr, ytr)\n",
        "        p = mdl.predict(Xval)\n",
        "\n",
        "\n",
        "        ## Evaluation starts\n",
        "        pp = tr[tr['fold'] != fold][['sku', 'date', 'sold_quantity']]\n",
        "        pp['stock'] = pp['sku'].map(test)\n",
        "        pp = pp.sort_values([\"sku\",\"date\"])\n",
        "        pp['cumulative_y'] = pp.groupby(\"sku\")['sold_quantity'].cumsum()\n",
        "\n",
        "        pp = pp.dropna(subset=['stock'])\n",
        "        pp['stockout_y'] = pp['cumulative_y'] >= pp['stock']\n",
        "\n",
        "        first_so_y = pp[pp['stockout_y']].groupby(\"sku\").first()\n",
        "        days_to_so_y = (first_so_y[\"date\"] - pp[\"date\"].min()) / np.timedelta64(1, 'D')\n",
        "        days_to_so_y = days_to_so_y.reindex(pp['sku'].unique()).fillna(30.).clip(1,30)\n",
        "\n",
        "\n",
        "        ppp = tr.iloc[ts][['sku']]\n",
        "        ppp['p'] = p\n",
        "        ppp['stock'] = ppp['sku'].map(test)\n",
        "        ppp = ppp.dropna(subset=['stock'])\n",
        "        ppp['days_to_so'] = (ppp['stock'] / ppp['p']).astype(int).fillna(30.).clip(1,30)\n",
        "        days_to_so_p = ppp[['sku', 'days_to_so']].set_index(\"sku\").squeeze().reindex(days_to_so_y.index) \n",
        "\n",
        "        days_to_so_p2 = utils.pred_list_to_tweedie(days_to_so_p, phi=2, p=1.5)\n",
        "        \n",
        "\n",
        "        rps = utils.rps(days_to_so_y, days_to_so_p2, probs=True)\n",
        "        mean_rps += rps\n",
        "        print(rps)\n",
        "    return mean_rps / 2\n",
        "\n",
        "space = [(1e-3, 1e-1, 'log-uniform'),\n",
        "         (1, 10),\n",
        "         (0.05, 0.95),\n",
        "         (0.05, 0.95),\n",
        "         (1.0,1.99),\n",
        "         (1,300)]\n",
        "res = gp_minimize(tune, space, random_state=1, verbose=1)\n"
      ],
      "metadata": {
        "id": "nb9zvqCb_SAb"
      },
      "execution_count": null,
      "outputs": []
    },
    {
      "cell_type": "code",
      "source": [
        "test_df = tr[tr['date'] == \"2021-03-31\"] #Taking days of march month for testing\n",
        "test_df = test_df[test_df['sku'].isin(test.index)]\n",
        "print(np.all(test_df['sku'] == test.index))\n",
        "\n",
        "features = [\"current_price\", \"minutes_active\"] + cats\n",
        "params = [0.003936128001463711, 2, 0.29539066512210194, 0.47989860558921493, 1.8040470414877383, 145]\n",
        "mdl = XGBRegressor(n_estimators=1000, learning_rate=params[0],\n",
        "                   max_depth=params[1],\n",
        "                   subsample=params[2],\n",
        "                   colsample_bytree=params[3],\n",
        "                   tweedie_variance_power=params[4],\n",
        "                   min_child_weight=params[5],\n",
        "                   random_state=0, objective=\"reg:tweedie\", \n",
        "                   base_score=1e-3,\n",
        "                   tree_method='gpu_hist')\n",
        "mdl.fit(tr[features], tr['sold_quantity'])\n",
        "p = mdl.predict(test_df[features])"
      ],
      "metadata": {
        "id": "uODDCDhNBA9M"
      },
      "execution_count": null,
      "outputs": []
    },
    {
      "cell_type": "code",
      "source": [
        "spp = test_df[['sku']].copy()\n",
        "spp['p'] = p\n",
        "spp['stock'] = spp['sku'].map(test)\n",
        "spp['days_to_so'] = (spp['stock'] / spp['p']).fillna(30.).clip(1,30).astype(int)"
      ],
      "metadata": {
        "id": "eHBpxtd6BWlZ"
      },
      "execution_count": null,
      "outputs": []
    },
    {
      "cell_type": "code",
      "source": [
        "prob_array = utils.pred_list_to_tweedie(spp['days_to_so'].values, phi=2., p=1.5)\n",
        "pd.set_option(\"display.max_columns\", 31)\n",
        "pd.DataFrame(prob_array).round(4).to_csv(\"challenge.csv.gz\", header=False, index=False, compression=\"gzip\")"
      ],
      "metadata": {
        "id": "L2Ehd6stBZEl"
      },
      "execution_count": null,
      "outputs": []
    },
    {
      "cell_type": "code",
      "source": [
        "pd.read_csv(\"challenge.csv.gz\",header=None)# Final submission file"
      ],
      "metadata": {
        "id": "nOxUQt9RBb-p"
      },
      "execution_count": null,
      "outputs": []
    }
  ]
}